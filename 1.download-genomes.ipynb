{
 "cells": [
  {
   "cell_type": "code",
   "execution_count": 10,
   "id": "7590dec1-e64e-4409-b336-4afa3ec7b32d",
   "metadata": {
    "execution": {
     "iopub.execute_input": "2022-08-20T00:01:03.647000Z",
     "iopub.status.busy": "2022-08-20T00:01:03.647000Z",
     "iopub.status.idle": "2022-08-20T00:01:16.583000Z",
     "shell.execute_reply": "2022-08-20T00:01:16.583000Z"
    },
    "tags": []
   },
   "outputs": [
    {
     "name": "stderr",
     "output_type": "stream",
     "text": [
      "\u001b[32m\u001b[1m    Updating\u001b[22m\u001b[39m registry at `/srv/julia/registries/General.toml`\n",
      "\u001b[32m\u001b[1m   Resolving\u001b[22m\u001b[39m package versions...\n",
      "\u001b[32m\u001b[1m    Updating\u001b[22m\u001b[39m `/srv/julia/environments/v1.7/Project.toml`\n",
      " \u001b[90m [7e6ae17a] \u001b[39m\u001b[92m+ BioSequences v3.1.0\u001b[39m\n",
      " \u001b[90m [c2308a5c] \u001b[39m\u001b[92m+ FASTX v2.0.0\u001b[39m\n",
      " \u001b[90m [92933f4c] \u001b[39m\u001b[92m+ ProgressMeter v1.7.2\u001b[39m\n",
      " \u001b[90m [e0b4c2ea] \u001b[39m\u001b[92m+ uCSV v0.1.6\u001b[39m\n",
      "\u001b[32m\u001b[1m  No Changes\u001b[22m\u001b[39m to `/srv/julia/environments/v1.7/Manifest.toml`\n"
     ]
    }
   ],
   "source": [
    "import Pkg\n",
    "pkgs = [\n",
    "    \"uCSV\",\n",
    "    \"DataFrames\",\n",
    "    \"ProgressMeter\",\n",
    "    \"FASTX\",\n",
    "    \"BioSequences\",\n",
    "]\n",
    "Pkg.add(pkgs)\n",
    "for pkg in pkgs\n",
    "    eval(Meta.parse(\"import $pkg\"))\n",
    "end"
   ]
  },
  {
   "cell_type": "code",
   "execution_count": 11,
   "id": "0824c48e-0871-4a8f-90fc-2c01c96f586a",
   "metadata": {
    "execution": {
     "iopub.execute_input": "2022-08-20T00:01:16.940000Z",
     "iopub.status.busy": "2022-08-20T00:01:16.583000Z",
     "iopub.status.idle": "2022-08-20T00:01:26.709000Z",
     "shell.execute_reply": "2022-08-20T00:01:26.708000Z"
    },
    "tags": []
   },
   "outputs": [],
   "source": [
    "import Mycelia"
   ]
  },
  {
   "cell_type": "code",
   "execution_count": 37,
   "id": "c65bfc28-e5ce-4768-b005-04783809c771",
   "metadata": {
    "execution": {
     "iopub.execute_input": "2022-08-20T00:37:44.814000Z",
     "iopub.status.busy": "2022-08-20T00:37:44.813000Z",
     "iopub.status.idle": "2022-08-20T00:37:44.814000Z",
     "shell.execute_reply": "2022-08-20T00:37:44.814000Z"
    },
    "tags": []
   },
   "outputs": [],
   "source": [
    "# metadata_dir = mkpath(\"metadata\")"
   ]
  },
  {
   "cell_type": "code",
   "execution_count": 35,
   "id": "f7193fe1-1a5e-4c14-9ec8-923ea2158bdb",
   "metadata": {
    "execution": {
     "iopub.execute_input": "2022-08-20T00:37:39.803000Z",
     "iopub.status.busy": "2022-08-20T00:37:39.803000Z",
     "iopub.status.idle": "2022-08-20T00:37:39.803000Z",
     "shell.execute_reply": "2022-08-20T00:37:39.803000Z"
    },
    "tags": []
   },
   "outputs": [],
   "source": [
    "# run(`rclone copy google_drive:Projects/sars-cov2-pangenome-analysis/metadata $metadata_dir`)"
   ]
  },
  {
   "cell_type": "code",
   "execution_count": 36,
   "id": "4e45571c-9506-4f30-b588-b9245332f87d",
   "metadata": {
    "execution": {
     "iopub.execute_input": "2022-08-20T00:37:41.577000Z",
     "iopub.status.busy": "2022-08-20T00:37:41.577000Z",
     "iopub.status.idle": "2022-08-20T00:37:41.577000Z",
     "shell.execute_reply": "2022-08-20T00:37:41.577000Z"
    },
    "tags": []
   },
   "outputs": [],
   "source": [
    "# readdir(metadata_dir)"
   ]
  },
  {
   "cell_type": "code",
   "execution_count": 34,
   "id": "e8a2dc29-a49d-4d8c-9c53-f2f283928740",
   "metadata": {
    "execution": {
     "iopub.execute_input": "2022-08-20T00:36:41.252000Z",
     "iopub.status.busy": "2022-08-20T00:36:41.252000Z",
     "iopub.status.idle": "2022-08-20T00:36:41.252000Z",
     "shell.execute_reply": "2022-08-20T00:36:41.252000Z"
    },
    "tags": []
   },
   "outputs": [],
   "source": [
    "# https://www.ncbi.nlm.nih.gov/sars-cov-2/download-nuccore-ids/\n",
    "# only has 10k samples\n",
    "# accessions_file = joinpath(metadata_dir, \"acc.txt\")\n",
    "# # accessions_table = DataFrames.DataFrame(uCSV.read(accessions_file, header=1)...)"
   ]
  },
  {
   "cell_type": "code",
   "execution_count": 7,
   "id": "90e0e6bd-dfae-441c-ac72-344a0d5469ba",
   "metadata": {
    "execution": {
     "iopub.execute_input": "2022-08-20T00:00:18.290000Z",
     "iopub.status.busy": "2022-08-20T00:00:18.290000Z",
     "iopub.status.idle": "2022-08-20T00:00:18.309000Z",
     "shell.execute_reply": "2022-08-20T00:00:18.309000Z"
    },
    "tags": []
   },
   "outputs": [],
   "source": [
    "# sequences_table_file = joinpath(metadata_dir, \"sequences.csv\")\n",
    "# if !isfile(sequences_table_file)\n",
    "#     run(`gzip -d $(metadata_dir)/sequences.csv.gz`)\n",
    "# end\n",
    "# # 14m to load\n",
    "# sequences_table = DataFrames.DataFrame(\n",
    "#     uCSV.read(\n",
    "#         sequences_table_file,\n",
    "#         header=1,\n",
    "#         quotes='\"',\n",
    "#         types=String)...\n",
    "# )"
   ]
  },
  {
   "cell_type": "code",
   "execution_count": 38,
   "id": "4f553ea4-503a-48c1-9884-888e95faaf77",
   "metadata": {
    "execution": {
     "iopub.execute_input": "2022-08-20T00:37:48.380000Z",
     "iopub.status.busy": "2022-08-20T00:37:48.380000Z",
     "iopub.status.idle": "2022-08-20T00:37:48.380000Z",
     "shell.execute_reply": "2022-08-20T00:37:48.380000Z"
    },
    "tags": []
   },
   "outputs": [],
   "source": [
    "# data_dir = mkpath(\"data\")\n",
    "# run(`rclone copy google_drive:Projects/sars-cov2-pangenome-analysis/data $data_dir`)"
   ]
  },
  {
   "cell_type": "code",
   "execution_count": 40,
   "id": "6302dd2a-6226-408d-a1ff-973ef5fb9ac6",
   "metadata": {
    "execution": {
     "iopub.execute_input": "2022-08-20T00:37:52.874000Z",
     "iopub.status.busy": "2022-08-20T00:37:52.874000Z",
     "iopub.status.idle": "2022-08-20T00:37:52.874000Z",
     "shell.execute_reply": "2022-08-20T00:37:52.874000Z"
    },
    "tags": []
   },
   "outputs": [],
   "source": [
    "# show(sequences_table[1:1, :], allcols=true)"
   ]
  },
  {
   "cell_type": "code",
   "execution_count": 41,
   "id": "8cc82eeb-f00b-48d1-986d-e53f8ee649fa",
   "metadata": {
    "execution": {
     "iopub.execute_input": "2022-08-20T00:37:55.017000Z",
     "iopub.status.busy": "2022-08-20T00:37:55.017000Z",
     "iopub.status.idle": "2022-08-20T00:37:55.017000Z",
     "shell.execute_reply": "2022-08-20T00:37:55.017000Z"
    },
    "tags": []
   },
   "outputs": [],
   "source": [
    "# accession = sequences_table[1, \"Accession\"]"
   ]
  },
  {
   "cell_type": "code",
   "execution_count": 42,
   "id": "3cfd49d8-ed14-40cf-8cbb-86408fc82597",
   "metadata": {
    "execution": {
     "iopub.execute_input": "2022-08-20T00:37:59.863000Z",
     "iopub.status.busy": "2022-08-20T00:37:59.863000Z",
     "iopub.status.idle": "2022-08-20T00:37:59.863000Z",
     "shell.execute_reply": "2022-08-20T00:37:59.863000Z"
    },
    "tags": []
   },
   "outputs": [],
   "source": [
    "# these aren't the right accessions to download\n",
    "# I bet we can translate but easier to just grab the whole data packet\n",
    "# @time run(`datasets download genome accession $(accession) --filename $(data_dir)/$(accession).zip`)"
   ]
  },
  {
   "cell_type": "code",
   "execution_count": null,
   "id": "0f8a8521-be6c-4f45-8e1c-33b9a8d7ddde",
   "metadata": {},
   "outputs": [],
   "source": [
    "# datasets download virus genome taxon SARS-CoV-2"
   ]
  }
 ],
 "metadata": {
  "kernelspec": {
   "display_name": "Julia 1.7.2",
   "language": "julia",
   "name": "julia-1.7"
  },
  "language_info": {
   "file_extension": ".jl",
   "mimetype": "application/julia",
   "name": "julia",
   "version": "1.7.2"
  },
  "vscode": {
   "interpreter": {
    "hash": "d4d1e4263499bec80672ea0156c357c1ee493ec2b1c70f0acce89fc37c4a6abe"
   }
  }
 },
 "nbformat": 4,
 "nbformat_minor": 5
}
