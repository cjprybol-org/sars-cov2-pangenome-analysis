{
 "cells": [
  {
   "cell_type": "code",
   "execution_count": null,
   "id": "7590dec1-e64e-4409-b336-4afa3ec7b32d",
   "metadata": {},
   "outputs": [],
   "source": [
    "import Pkg\n",
    "pkgs = [\n",
    "    \"uCSV\",\n",
    "    \"DataFrames\",\n",
    "    \"ProgressMeter\",\n",
    "    \"FASTX\",\n",
    "    \"BioSequences\",\n",
    "]\n",
    "Pkg.add(pkgs)\n",
    "for pkg in pkgs\n",
    "    eval(Meta.parse(\"import $pkg\"))\n",
    "end"
   ]
  },
  {
   "cell_type": "code",
   "execution_count": null,
   "id": "0824c48e-0871-4a8f-90fc-2c01c96f586a",
   "metadata": {},
   "outputs": [],
   "source": [
    "import Mycelia"
   ]
  },
  {
   "cell_type": "code",
   "execution_count": null,
   "id": "90e0e6bd-dfae-441c-ac72-344a0d5469ba",
   "metadata": {},
   "outputs": [],
   "source": []
  }
 ],
 "metadata": {
  "kernelspec": {
   "display_name": "Python 3.10.5 ('base')",
   "language": "python",
   "name": "python3"
  },
  "language_info": {
   "name": "python",
   "version": "3.10.5"
  },
  "vscode": {
   "interpreter": {
    "hash": "d4d1e4263499bec80672ea0156c357c1ee493ec2b1c70f0acce89fc37c4a6abe"
   }
  }
 },
 "nbformat": 4,
 "nbformat_minor": 5
}
